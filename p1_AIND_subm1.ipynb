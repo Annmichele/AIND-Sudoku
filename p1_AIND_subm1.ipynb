{
 "cells": [
  {
   "cell_type": "markdown",
   "metadata": {},
   "source": [
    "# Artificial Intelligence Nanodegree\n",
    "## Introductory Project: Diagonal Sudoku Solver\n",
    "\n",
    "\n",
    "\n",
    "In this project we will go over the solution to solve sudoku using naked-twin strategy. Further we will extend the solution to solve for diagonal sudoku where the diagonals of the board are constraint to have all the numbers between 1 and 9. \n",
    "\n",
    "#### Question 1 (Naked Twins)\n",
    "Q: How do we use constraint propagation to solve the naked twins problem?  \n",
    "A: Constraint propagation is the idea of applying the same constraint as many times as possible until a solution is obtained, or the constraint can no longer be applied to refine the solution. \n",
    "\n",
    "In sudoku, we apply naked twins as a strategy to reduce the number of possibilities. Naked twins is the strategy is illustrated in the figure below. The strategy is to identify a pair of boxes belonging to the same set of peers that have the same 2 numbers as possibilities, and eleminate these two numbers from all the boxes that have these two boxes as peers. \n",
    "\n",
    "<img src='images/naked-twins.png'>\n",
    "\n",
    "This method was implemented in Python using a set intersection function. First we identify all boxes that have only 2 elements. Next we identify which boxes among these have the same elements to get naked twins. Once we get the naked twins, we remove the corresponding digits from all the boxes that are peers to both the twins. This is illustrated in the code snippet below. \n",
    "\n",
    "<img src='images/naked_twins.png'>\n",
    "\n",
    "We use naked_twins in conjunction with eliminate and only-choice to reduce the number of possibilities as shown in the reduce_puzzle snippet below. \n",
    "\n",
    "\n",
    "\n",
    "<img src='images/reduce_puzzle.png'>\n"
   ]
  },
  {
   "cell_type": "markdown",
   "metadata": {
    "collapsed": true
   },
   "source": [
    "#### Question 2 (Diagonal Sudoku)\n",
    "Q: How do we use constraint propagation to solve the diagonal sudoku problem?  \n",
    "A: For diagonal sudoku, the easiest way to incorporate diagonal contraint was to include it as an additional unit in sudoku. Once this is done, all the diagonal entries will have the corresponding diagonal entries as their peers. This will result in not accepting solutions that do not satisfy the diagonal constraint. The code snippet below presents the method of implementing diagonal constraint. \n",
    "\n",
    "\n",
    "<img src='images/diagonal.png'>\n"
   ]
  },
  {
   "cell_type": "code",
   "execution_count": null,
   "metadata": {
    "collapsed": true
   },
   "outputs": [],
   "source": []
  }
 ],
 "metadata": {
  "kernelspec": {
   "display_name": "Python 3",
   "language": "python",
   "name": "python3"
  },
  "language_info": {
   "codemirror_mode": {
    "name": "ipython",
    "version": 3
   },
   "file_extension": ".py",
   "mimetype": "text/x-python",
   "name": "python",
   "nbconvert_exporter": "python",
   "pygments_lexer": "ipython3",
   "version": "3.5.2"
  }
 },
 "nbformat": 4,
 "nbformat_minor": 1
}
